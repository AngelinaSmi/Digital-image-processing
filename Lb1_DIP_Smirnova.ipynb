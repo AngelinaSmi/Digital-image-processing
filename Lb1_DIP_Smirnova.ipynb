{
  "nbformat": 4,
  "nbformat_minor": 0,
  "metadata": {
    "colab": {
      "provenance": [],
      "authorship_tag": "ABX9TyMuNfwgY35mXaSg4aX81q8R",
      "include_colab_link": true
    },
    "kernelspec": {
      "name": "python3",
      "display_name": "Python 3"
    },
    "language_info": {
      "name": "python"
    }
  },
  "cells": [
    {
      "cell_type": "markdown",
      "metadata": {
        "id": "view-in-github",
        "colab_type": "text"
      },
      "source": [
        "<a href=\"https://colab.research.google.com/github/AngelinaSmi/Digital-image-processing/blob/main/Lb1_DIP_Smirnova.ipynb\" target=\"_parent\"><img src=\"https://colab.research.google.com/assets/colab-badge.svg\" alt=\"Open In Colab\"/></a>"
      ]
    },
    {
      "cell_type": "markdown",
      "source": [
        "**Лабораторная работа № 1 Смирновой А.Е. 24ВВИм1**"
      ],
      "metadata": {
        "id": "6nRv4Uc3pAVl"
      }
    },
    {
      "cell_type": "markdown",
      "source": [
        "Задание: Необходимо средствами библиотеки numpy сгенерировать матрицу со случайными значениями и привести все значения в диапазон от 0 до 255"
      ],
      "metadata": {
        "id": "tNoBbK6Jo9Vx"
      }
    },
    {
      "cell_type": "markdown",
      "source": [
        "Установим библиотеку NumPy"
      ],
      "metadata": {
        "id": "-ygR9brDpWG9"
      }
    },
    {
      "cell_type": "code",
      "source": [
        "!pip3 install numpy"
      ],
      "metadata": {
        "colab": {
          "base_uri": "https://localhost:8080/"
        },
        "id": "GdaVLk50posB",
        "outputId": "62f1603a-5fdd-41fd-d85c-9aa9ea65f29b"
      },
      "execution_count": 1,
      "outputs": [
        {
          "output_type": "stream",
          "name": "stdout",
          "text": [
            "Requirement already satisfied: numpy in /usr/local/lib/python3.12/dist-packages (2.0.2)\n"
          ]
        }
      ]
    },
    {
      "cell_type": "markdown",
      "source": [
        "Подключим библиотеку"
      ],
      "metadata": {
        "id": "Ur713y0Cp6Fj"
      }
    },
    {
      "cell_type": "code",
      "source": [
        "import numpy as np"
      ],
      "metadata": {
        "id": "XFOdV9DZp-9a"
      },
      "execution_count": 2,
      "outputs": []
    },
    {
      "cell_type": "markdown",
      "source": [
        "Создадим матрицу со случайными значениями"
      ],
      "metadata": {
        "id": "vwGQQC3erM0V"
      }
    },
    {
      "cell_type": "code",
      "source": [
        "rnd = np.random.randint(1000, size=(7, 10))\n",
        "print(rnd)"
      ],
      "metadata": {
        "colab": {
          "base_uri": "https://localhost:8080/"
        },
        "id": "BdRz1qnArUmA",
        "outputId": "8ed545ef-d5d9-45ef-e0fd-3b733dae90c1"
      },
      "execution_count": 10,
      "outputs": [
        {
          "output_type": "stream",
          "name": "stdout",
          "text": [
            "[[815  80 396 583 924 313 347 822 797 500]\n",
            " [114 469 884 552  92  27 646 373 490 412]\n",
            " [315 574 796 128 684 895 738 779 345 217]\n",
            " [691 229 130 287 626 533  22 502 453 840]\n",
            " [809  84   0 789 656 984  74  12 871 140]\n",
            " [824 710 250 744 458 461 828 735 739 163]\n",
            " [264 122 674 477 844 455 599   5 194 198]]\n"
          ]
        }
      ]
    },
    {
      "cell_type": "markdown",
      "source": [
        "Приведем все занчения в диапазон от 0 до 255. Находим минимальное и макисмальное значения матрицы и преобразуем их в 0 и 255."
      ],
      "metadata": {
        "id": "pw0JajJNu9dc"
      }
    },
    {
      "cell_type": "code",
      "source": [
        "mn, mx = rnd.min(), rnd.max()\n",
        "rnd_new = ((rnd - mn) / (mx - mn) * 255).clip(0,255).astype(np.uint8)\n",
        "print(rnd_new)"
      ],
      "metadata": {
        "colab": {
          "base_uri": "https://localhost:8080/"
        },
        "id": "fZo1fXgzvykZ",
        "outputId": "9aed352e-9f6c-43e4-f9a9-338ae9753fde"
      },
      "execution_count": 11,
      "outputs": [
        {
          "output_type": "stream",
          "name": "stdout",
          "text": [
            "[[211  20 102 151 239  81  89 213 206 129]\n",
            " [ 29 121 229 143  23   6 167  96 126 106]\n",
            " [ 81 148 206  33 177 231 191 201  89  56]\n",
            " [179  59  33  74 162 138   5 130 117 217]\n",
            " [209  21   0 204 170 255  19   3 225  36]\n",
            " [213 183  64 192 118 119 214 190 191  42]\n",
            " [ 68  31 174 123 218 117 155   1  50  51]]\n"
          ]
        }
      ]
    }
  ]
}